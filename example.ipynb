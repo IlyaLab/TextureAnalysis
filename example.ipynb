{
 "cells": [
  {
   "cell_type": "markdown",
   "metadata": {
    "id": "qGY_0zIwprzc"
   },
   "source": [
    "#### Example Application of Texture Analysis Pipeline\n",
    "\n",
    "The following example utilizes the Kather dataset, a tiled, color normalized, and MSI/MSS labelled dataset made from the TCGA-CRC and TCGA-STAD datasets. This dataset has already been seperated in seperate folders based off of their labels of MSI or MSS.\n",
    "\n",
    "Kather dataset can be found at DOI: 10.5281/zenodo.2530834\n",
    "OR\n",
    "https://zenodo.org/records/2530835\n",
    "\n",
    "Additionally, all other datasets of TCGA-UCEC, CPTAC-COAD, and CPTAC-UCEC are publicly available. "
   ]
  },
  {
   "cell_type": "code",
   "execution_count": null,
   "metadata": {
    "executionInfo": {
     "elapsed": 8,
     "status": "ok",
     "timestamp": 1741832398810,
     "user": {
      "displayName": "Nilus Swanson",
      "userId": "05054524866838964235"
     },
     "user_tz": 420
    },
    "id": "GmwODQAvN1jv"
   },
   "outputs": [],
   "source": [
    "# for google colab in order to use correct scipy library for RandomForest Models\n",
    "#!pip uninstall scikit-learn\n",
    "#!pip install scikit-learn==1.5.2"
   ]
  },
  {
   "cell_type": "code",
   "execution_count": null,
   "metadata": {
    "colab": {
     "base_uri": "https://localhost:8080/"
    },
    "executionInfo": {
     "elapsed": 19755,
     "status": "ok",
     "timestamp": 1741832418573,
     "user": {
      "displayName": "Nilus Swanson",
      "userId": "05054524866838964235"
     },
     "user_tz": 420
    },
    "id": "R6sxM3YVP3OL",
    "outputId": "c39ac7a0-36b7-4663-a97d-d2edfb2d04e6"
   },
   "outputs": [],
   "source": [
    "# necessary to run on google colab\n",
    "from google.colab import drive\n",
    "drive.mount('/content/drive')\n",
    "import sys\n",
    "sys.path.append(\"/content/drive/MyDrive/ISB-Work/Texture Analysis/Code/TextureAnalysis\")"
   ]
  },
  {
   "cell_type": "code",
   "execution_count": null,
   "metadata": {
    "executionInfo": {
     "elapsed": 20354,
     "status": "ok",
     "timestamp": 1741832438928,
     "user": {
      "displayName": "Nilus Swanson",
      "userId": "05054524866838964235"
     },
     "user_tz": 420
    },
    "id": "JqagqdSiprzg"
   },
   "outputs": [],
   "source": [
    "from main import *"
   ]
  },
  {
   "cell_type": "markdown",
   "metadata": {
    "id": "26OpVppRUvix"
   },
   "source": [
    "Alter these paths to wherever the tiles are saved."
   ]
  },
  {
   "cell_type": "code",
   "execution_count": null,
   "metadata": {
    "executionInfo": {
     "elapsed": 6,
     "status": "ok",
     "timestamp": 1741832438936,
     "user": {
      "displayName": "Nilus Swanson",
      "userId": "05054524866838964235"
     },
     "user_tz": 420
    },
    "id": "8XhNVlOGprzh"
   },
   "outputs": [],
   "source": [
    "#MSI_dir = r\"/content/drive/MyDrive/ISB-Work/TCGA/TCGA-FFPE-Tiles/tcga_stad_msi/MSI\"\n",
    "#MSS_dir = r\"/content/drive/MyDrive/ISB-Work/TCGA/TCGA-FFPE-Tiles/tcga_stad_msi/MSS\""
   ]
  },
  {
   "cell_type": "code",
   "execution_count": null,
   "metadata": {
    "executionInfo": {
     "elapsed": 37,
     "status": "ok",
     "timestamp": 1741832438974,
     "user": {
      "displayName": "Nilus Swanson",
      "userId": "05054524866838964235"
     },
     "user_tz": 420
    },
    "id": "NsR_lb8Lprzh"
   },
   "outputs": [],
   "source": [
    "MSI_dir = r\"/content/drive/MyDrive/ISB-Work/CPTAC/CPTAC-Frozen-Tiles/cptac_coad_msi/MSI\"\n",
    "MSS_dir = r\"/content/drive/MyDrive/ISB-Work/CPTAC/CPTAC-Frozen-Tiles/cptac_coad_msi/MSS\""
   ]
  },
  {
   "cell_type": "code",
   "execution_count": null,
   "metadata": {
    "colab": {
     "base_uri": "https://localhost:8080/",
     "height": 1000
    },
    "executionInfo": {
     "elapsed": 255302,
     "status": "error",
     "timestamp": 1741832694277,
     "user": {
      "displayName": "Nilus Swanson",
      "userId": "05054524866838964235"
     },
     "user_tz": 420
    },
    "id": "Jxz4_H1bprzj",
    "outputId": "5ab84a18-b1ad-437c-a9d1-7068b8d9dc69"
   },
   "outputs": [],
   "source": [
    "main(MSI_dir, MSS_dir, sample_size=5000, n_jobs=-1, cohort_name='CPTAC-COAD', validation=True, subsets=True, model='', study='CPTAC', ML='XGBoost')"
   ]
  }
 ],
 "metadata": {
  "accelerator": "GPU",
  "colab": {
   "gpuType": "A100",
   "machine_shape": "hm",
   "provenance": []
  },
  "kernelspec": {
   "display_name": "Python 3",
   "name": "python3"
  },
  "language_info": {
   "codemirror_mode": {
    "name": "ipython",
    "version": 3
   },
   "file_extension": ".py",
   "mimetype": "text/x-python",
   "name": "python",
   "nbconvert_exporter": "python",
   "pygments_lexer": "ipython3",
   "version": "3.12.3"
  }
 },
 "nbformat": 4,
 "nbformat_minor": 0
}
