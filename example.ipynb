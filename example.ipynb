{
 "cells": [
  {
   "cell_type": "markdown",
   "metadata": {},
   "source": [
    "#### Example Application of Texture Analysis Pipeline\n",
    "\n",
    "The following example utilizes the Kather dataset, a tiled, color normalized, and MSI/MSS labelled dataset made from the TCGA-CRC and TCGA-STAD datasets. This dataset has already been seperated in seperate folders based off of their labels of MSI or MSS.\n",
    "\n",
    "Kather dataset can be found at DOI: 10.5281/zenodo.2530834\n",
    "OR\n",
    "https://zenodo.org/records/2530835"
   ]
  },
  {
   "cell_type": "code",
   "execution_count": null,
   "metadata": {},
   "outputs": [],
   "source": [
    "from main import *"
   ]
  },
  {
   "cell_type": "code",
   "execution_count": null,
   "metadata": {},
   "outputs": [],
   "source": [
    "MSI_dir = r'\\path\\to\\MSI\\tiles\\from\\Kather\\dataset'\n",
    "MSS_dir = r'\\path\\to\\MSS\\tiles\\from\\Kather\\dataset'"
   ]
  },
  {
   "cell_type": "markdown",
   "metadata": {},
   "source": [
    "Subdrectories are created to hold the subsets for both training and validating the model. The subdirectories are created in the same folder as the dataset Kather dataset folder."
   ]
  },
  {
   "cell_type": "code",
   "execution_count": null,
   "metadata": {},
   "outputs": [],
   "source": [
    "MSI_subsets_dir, MSS_subsets_dir, MSI_validation_dir, MSS_validation_dir, save_path = init_subdirs(MSI_dir, MSS_dir, sample_size=5000, validation=True)"
   ]
  },
  {
   "cell_type": "markdown",
   "metadata": {},
   "source": [
    "Grey level co-occurrence matrices are created for each image, and their texture features are extracted here."
   ]
  },
  {
   "cell_type": "code",
   "execution_count": null,
   "metadata": {},
   "outputs": [],
   "source": [
    "feature_extraction(MSI_subsets_dir, os.path.join(save_path, 'MSI'))\n",
    "feature_extraction(MSS_subsets_dir, os.path.join(save_path, 'MSS'))"
   ]
  },
  {
   "cell_type": "markdown",
   "metadata": {},
   "source": [
    "Machine learning is done with Random Forest utilizing paramter tuning. It applies the MSI and MSS labels, and then returns an ROC curve with mean AUROC results across the validation testing sets, as well as the confidence interval, balanced accuracy, and specificity scores."
   ]
  },
  {
   "cell_type": "code",
   "execution_count": null,
   "metadata": {},
   "outputs": [],
   "source": [
    "save_path = r'TCGA-CRC_texture_analysis_results'\n",
    "X_train, X_test, y_train, y_test, data, test_ind = preprocess_data(os.path.join(save_path, 'MSI'), os.path.join(save_path, 'MSS'))\n",
    "y_pred = plot_predict(X_train,X_test, y_train, y_test, data, os.path.join(save_path, 'MSI_validation_subsets'), os.path.join(save_path, 'MSS_validation_subsets'), title=('Prediction of MSI in ' + 'TCGA-CRC'), validation=True)\n",
    "per_patient(X_test, y_pred, y_test, test_ind, title='Per Patient Prediction of MSI in ' + 'TCGA-CRC')"
   ]
  },
  {
   "cell_type": "markdown",
   "metadata": {},
   "source": [
    "\n",
    "For a streamlined version of the entire pipeline, \"main\" can be used to allow for a greater number of CPU's to be utilized."
   ]
  },
  {
   "cell_type": "code",
   "execution_count": null,
   "metadata": {},
   "outputs": [],
   "source": [
    "main(MSI_dir, MSS_dir, sample_size=5000, n_jobs=7, cohort_name='TCGA-CRC', validation=True, subsets=True)"
   ]
  }
 ],
 "metadata": {
  "kernelspec": {
   "display_name": "Texture_Analysis",
   "language": "python",
   "name": "python3"
  },
  "language_info": {
   "codemirror_mode": {
    "name": "ipython",
    "version": 3
   },
   "file_extension": ".py",
   "mimetype": "text/x-python",
   "name": "python",
   "nbconvert_exporter": "python",
   "pygments_lexer": "ipython3",
   "version": "3.12.3"
  }
 },
 "nbformat": 4,
 "nbformat_minor": 2
}
